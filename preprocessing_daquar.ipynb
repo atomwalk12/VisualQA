{
 "cells": [
  {
   "cell_type": "code",
   "execution_count": null,
   "metadata": {},
   "outputs": [],
   "source": [
    "# sys.path.insert(0, \"./docs/transformers/transformers/src\")\n",
    "\n",
    "\n",
    "from datasets import concatenate_datasets\n",
    "from transformers import Blip2Processor\n",
    "\n",
    "from lib.daquar.daquar_classification import DaquarClassification\n",
    "from lib.daquar.daquar_generation import DaquarGeneration\n",
    "from lib.types import HFRepos, Suffix, VQAParameters\n",
    "from lib.visualization import (\n",
    "    calculate_label_frequency,\n",
    "    create_label_frequency_boxplot,\n",
    "    display_sample_images,\n",
    ")\n",
    "\n",
    "%load_ext autoreload\n",
    "%autoreload 2\n",
    "\n",
    "# Load dependencies\n",
    "processor = Blip2Processor.from_pretrained(HFRepos.BLIP2_OPT)\n",
    "\n",
    "DIR = \"analysis/daquar/\""
   ]
  },
  {
   "cell_type": "markdown",
   "metadata": {},
   "source": [
    "# DAQUAM dataset\n",
    "## Base Dataset\n",
    "### Visualization"
   ]
  },
  {
   "cell_type": "code",
   "execution_count": null,
   "metadata": {},
   "outputs": [],
   "source": [
    "args = VQAParameters(Suffix.All, recompute=True)  # using combined dataset\n",
    "args.processor = processor\n",
    "dataset = DaquarGeneration(args)\n",
    "display_sample_images(\n",
    "    dataset.raw_dataset, \"DAQUAR\", f\"{DIR}/0.daquar_sample_images.pdf\", 10, 16\n",
    ")"
   ]
  },
  {
   "cell_type": "markdown",
   "metadata": {},
   "source": [
    "### 1. Label Frequency Bar Chart"
   ]
  },
  {
   "cell_type": "code",
   "execution_count": null,
   "metadata": {},
   "outputs": [],
   "source": [
    "calculate_label_frequency(\n",
    "    dataset,\n",
    "    None,\n",
    "    None,\n",
    "    path=f\"{DIR}/1.daquar_bar_base\",\n",
    "    title=\"DAQUAR Base Dataset Bar Chart\",\n",
    "    multilabel=True,\n",
    ")"
   ]
  },
  {
   "cell_type": "markdown",
   "metadata": {},
   "source": [
    "### 2. Label Frequency Boxplot"
   ]
  },
  {
   "cell_type": "code",
   "execution_count": null,
   "metadata": {},
   "outputs": [],
   "source": [
    "create_label_frequency_boxplot(\n",
    "    dataset,\n",
    "    path=f\"{DIR}/1.daquar_boxplot_base\",\n",
    "    multilabel=True,\n",
    "    title=\"DAQUAR Base Dataset Boxplot\",\n",
    ")"
   ]
  },
  {
   "cell_type": "markdown",
   "metadata": {},
   "source": [
    "## Processed Dataset"
   ]
  },
  {
   "cell_type": "markdown",
   "metadata": {},
   "source": [
    "### 3. Label Frequency Bar Chart"
   ]
  },
  {
   "cell_type": "code",
   "execution_count": null,
   "metadata": {},
   "outputs": [],
   "source": [
    "args = VQAParameters(\n",
    "    Suffix.Train, use_proportional_split=True\n",
    ")  # using combined dataset\n",
    "args.processor = processor\n",
    "train_dataset = DaquarClassification(args)\n",
    "\n",
    "args = VQAParameters(Suffix.Val, use_proportional_split=True)  # using combined dataset\n",
    "args.processor = processor\n",
    "val_dataset = DaquarClassification(args)\n",
    "calculate_label_frequency(\n",
    "    train_dataset,\n",
    "    val_dataset,\n",
    "    None,\n",
    "    f\"{DIR}/3.daquar_boxplot_processed\",\n",
    "    multilabel=True,\n",
    "    title=\"DAQUAR Processed Dataset Bar Chart\",\n",
    ")"
   ]
  },
  {
   "cell_type": "markdown",
   "metadata": {},
   "source": [
    "### 4. Label Frequency Boxplot"
   ]
  },
  {
   "cell_type": "code",
   "execution_count": null,
   "metadata": {},
   "outputs": [],
   "source": [
    "dataset = concatenate_datasets([train_dataset.raw_dataset, val_dataset.raw_dataset])\n",
    "create_label_frequency_boxplot(\n",
    "    dataset,\n",
    "    path=f\"{DIR}/4.daquar_boxplot_processed\",\n",
    "    title=\"DAQUAR Processed Dataset Boxplot\",\n",
    ")"
   ]
  },
  {
   "cell_type": "code",
   "execution_count": null,
   "metadata": {},
   "outputs": [],
   "source": []
  }
 ],
 "metadata": {
  "kernelspec": {
   "display_name": "dev",
   "language": "python",
   "name": "python3"
  },
  "language_info": {
   "codemirror_mode": {
    "name": "ipython",
    "version": 3
   },
   "file_extension": ".py",
   "mimetype": "text/x-python",
   "name": "python",
   "nbconvert_exporter": "python",
   "pygments_lexer": "ipython3",
   "version": "3.12.3"
  }
 },
 "nbformat": 4,
 "nbformat_minor": 2
}
