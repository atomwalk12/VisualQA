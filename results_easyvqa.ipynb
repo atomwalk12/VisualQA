{
 "cells": [
  {
   "cell_type": "code",
   "execution_count": null,
   "metadata": {},
   "outputs": [],
   "source": [
    "import pickle\n",
    "import random\n",
    "\n",
    "import torch\n",
    "from transformers import Blip2Processor\n",
    "\n",
    "from lib.easy_vqa.easyvqa_classification import EasyVQAClassification\n",
    "from lib.models.feature_visualizer import FeatureVisualizer\n",
    "from lib.trainers.classification_trainer import ClassificationTrainer\n",
    "from lib.types import (\n",
    "    DatasetTypes,\n",
    "    HFRepos,\n",
    "    ModelTypes,\n",
    "    Suffix,\n",
    "    TrainingParameters,\n",
    "    VQAParameters,\n",
    ")\n",
    "from lib.utils import EXPERIMENT\n",
    "from lib.visualization import (\n",
    "    display_class_specific_images,\n",
    "    show_image,\n",
    ")\n",
    "\n",
    "%load_ext autoreload\n",
    "%autoreload 2\n",
    "\n",
    "# Load dependencies\n",
    "processor = Blip2Processor.from_pretrained(HFRepos.BLIP2_OPT)\n",
    "\n",
    "DIR = \"analysis/easyvqa/\"\n",
    "EXPERIMENT.set_seed(2024).apply_seed()"
   ]
  },
  {
   "cell_type": "markdown",
   "metadata": {},
   "source": [
    "# Results for EasyVQA"
   ]
  },
  {
   "cell_type": "code",
   "execution_count": null,
   "metadata": {},
   "outputs": [],
   "source": [
    "args = VQAParameters(Suffix.Train)  # using combined dataset\n",
    "args.processor = processor\n",
    "dataset = EasyVQAClassification(args)"
   ]
  },
  {
   "cell_type": "code",
   "execution_count": null,
   "metadata": {},
   "outputs": [],
   "source": [
    "split = \"train\"\n",
    "\n",
    "best_path = f\"data/models/easy_vqa/classifier/1780639714/features_{split}.pkl\"  # classifier outputs\n",
    "data = pickle.load(open(best_path, \"rb\"))\n",
    "features = data[\"features\"]\n",
    "labels = data[\"labels\"]\n",
    "\n",
    "\n",
    "feature_visualizer = FeatureVisualizer(\n",
    "    id_to_answer=dataset.id_to_answer, dataset_name=\"easyvqa\"\n",
    ")\n",
    "feature_visualizer.set_features(features, labels, split)\n",
    "feature_visualizer.visualize_features_with_umap(\n",
    "    save_path=f\"{DIR}/5.easyvqa_{split}_1780639714_features\"\n",
    ")"
   ]
  },
  {
   "cell_type": "code",
   "execution_count": null,
   "metadata": {},
   "outputs": [],
   "source": [
    "args = VQAParameters(Suffix.Val)  # using combined dataset\n",
    "args.processor = processor\n",
    "dataset = EasyVQAClassification(args)\n",
    "\n",
    "split = \"val\"\n",
    "best_path = f\"data/models/easy_vqa/classifier/1780639714/features_{split}.pkl\"  # classifier outputs\n",
    "data = pickle.load(open(best_path, \"rb\"))\n",
    "features = data[\"features\"]\n",
    "labels = data[\"labels\"]\n",
    "\n",
    "\n",
    "feature_visualizer = FeatureVisualizer(\n",
    "    id_to_answer=dataset.id_to_answer, dataset_name=\"easyvqa\"\n",
    ")\n",
    "feature_visualizer.set_features(features, labels, split)\n",
    "feature_visualizer.visualize_features_with_umap(\n",
    "    save_path=f\"{DIR}/5.easyvqa_{split}_features\"\n",
    ")"
   ]
  },
  {
   "cell_type": "markdown",
   "metadata": {},
   "source": [
    "# Comparing classes side by side\n"
   ]
  },
  {
   "cell_type": "code",
   "execution_count": null,
   "metadata": {},
   "outputs": [],
   "source": [
    "class_types = [\"no\", \"yes\"]  # Example class types\n",
    "display_class_specific_images(\n",
    "    dataset.raw_dataset,\n",
    "    \"EasyVQA\",\n",
    "    f\"{DIR}/7.easyvqa_class_specific_samples.pdf\",\n",
    "    class_types,\n",
    "    font_size=24,\n",
    ")"
   ]
  },
  {
   "cell_type": "markdown",
   "metadata": {},
   "source": [
    "# Live evaluation\n",
    "\n",
    "This section allows to randomly choose images from the dataset and predict the answer.\n"
   ]
  },
  {
   "cell_type": "code",
   "execution_count": null,
   "metadata": {},
   "outputs": [],
   "source": [
    "EXPERIMENT.set_seed(2024).apply_seed()\n",
    "\n",
    "test_args = VQAParameters(split=\"test\", is_testing=True, use_proportional_split=True)\n",
    "test_args.processor = processor\n",
    "\n",
    "dataset = EasyVQAClassification(test_args)\n",
    "\n",
    "parameters = TrainingParameters(\n",
    "    dataset_name=DatasetTypes.EASY_VQA,\n",
    "    resume_checkpoint=True,\n",
    "    model_name=ModelTypes.BLIP2Classifier,\n",
    "    is_trainable=False,\n",
    "    train_args=None,\n",
    "    val_args=None,\n",
    "    test_args=test_args,\n",
    "    resume_state=False,\n",
    "    is_testing=True,\n",
    "    use_wandb=False,\n",
    ")\n",
    "\n",
    "module = ClassificationTrainer(parameters)\n",
    "model = module.model\n",
    "model.eval()\n",
    "\n",
    "device = torch.device(\"cuda\" if torch.cuda.is_available() else \"cpu\")"
   ]
  },
  {
   "cell_type": "code",
   "execution_count": null,
   "metadata": {},
   "outputs": [],
   "source": [
    "sample = random.randint(0, len(dataset))\n",
    "data = dataset[sample]\n",
    "\n",
    "pixel_values = data[\"pixel_values\"].unsqueeze(0).to(device)\n",
    "input_ids = data[\"input_ids\"].unsqueeze(0).to(device)\n",
    "attention_mask = data[\"attention_mask\"].unsqueeze(0).to(device)\n",
    "labels = data[\"labels\"].unsqueeze(0).to(device)\n",
    "\n",
    "outputs = model(\n",
    "    pixel_values=pixel_values,\n",
    "    input_ids=input_ids,\n",
    "    attention_mask=attention_mask,\n",
    "    labels=labels,\n",
    "    log=False,\n",
    ")\n",
    "_, preds = torch.max(outputs.logits, 1)\n",
    "_, target_pred = torch.max(labels, 1)\n",
    "\n",
    "predicted = dataset.id_to_answer[preds.item()]\n",
    "target = dataset.id_to_answer[target_pred.item()]\n",
    "\n",
    "print(predicted, target)\n",
    "show_image(dataset.raw_dataset[sample], predicted, target)"
   ]
  }
 ],
 "metadata": {
  "kernelspec": {
   "display_name": "dev",
   "language": "python",
   "name": "python3"
  },
  "language_info": {
   "codemirror_mode": {
    "name": "ipython",
    "version": 3
   },
   "file_extension": ".py",
   "mimetype": "text/x-python",
   "name": "python",
   "nbconvert_exporter": "python",
   "pygments_lexer": "ipython3",
   "version": "3.12.3"
  }
 },
 "nbformat": 4,
 "nbformat_minor": 2
}
