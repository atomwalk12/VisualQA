{
 "cells": [
  {
   "cell_type": "code",
   "execution_count": null,
   "metadata": {},
   "outputs": [],
   "source": [
    "# sys.path.insert(0, \"./docs/transformers/transformers/src\")\n",
    "\n",
    "from datasets import concatenate_datasets\n",
    "from transformers import Blip2Processor\n",
    "\n",
    "from lib.easy_vqa.easyvqa_generation import EasyVQAGeneration\n",
    "from lib.types import HFRepos, Suffix, VQAParameters\n",
    "from lib.visualization import (\n",
    "    calculate_label_frequency,\n",
    "    create_label_frequency_boxplot,\n",
    "    display_sample_images,\n",
    ")\n",
    "\n",
    "%load_ext autoreload\n",
    "%autoreload 2\n",
    "\n",
    "# Load dependencies\n",
    "processor = Blip2Processor.from_pretrained(HFRepos.BLIP2_OPT)\n",
    "\n",
    "DIR = \"analysis/easyvqa/\""
   ]
  },
  {
   "cell_type": "markdown",
   "metadata": {},
   "source": [
    "# Easy-VQA dataset\n",
    "## Base Dataset\n",
    "### Visualization"
   ]
  },
  {
   "cell_type": "code",
   "execution_count": null,
   "metadata": {},
   "outputs": [],
   "source": [
    "args = VQAParameters(Suffix.Val, recompute=False)  # using combined dataset\n",
    "args.processor = processor\n",
    "dataset = EasyVQAGeneration(args)\n",
    "display_sample_images(\n",
    "    dataset.raw_dataset, \"EASY-VQA\", f\"{DIR}/0.easyvqa_sample_images.pdf\", 10, 16\n",
    ")"
   ]
  },
  {
   "cell_type": "markdown",
   "metadata": {},
   "source": [
    "### 1. Label Frequency Bar Chart\n"
   ]
  },
  {
   "cell_type": "code",
   "execution_count": null,
   "metadata": {},
   "outputs": [],
   "source": [
    "args = VQAParameters(Suffix.Train, recompute=False)  # using combined dataset\n",
    "args.processor = processor\n",
    "dataset = EasyVQAGeneration(args)\n",
    "calculate_label_frequency(\n",
    "    dataset,\n",
    "    None,\n",
    "    None,\n",
    "    path=f\"{DIR}/1.easyvqa_bar_base\",\n",
    "    title=\"Easy-VQA Label Frequency Bar Chart\",\n",
    ")"
   ]
  },
  {
   "cell_type": "markdown",
   "metadata": {},
   "source": [
    "### 2. Label Frequency Boxplot"
   ]
  },
  {
   "cell_type": "code",
   "execution_count": null,
   "metadata": {},
   "outputs": [],
   "source": [
    "create_label_frequency_boxplot(\n",
    "    dataset,\n",
    "    path=f\"{DIR}/2.easyvqa_boxplot_base\",\n",
    "    title=\"Easy-VQA Label Frequency Boxplot\",\n",
    ")"
   ]
  },
  {
   "cell_type": "markdown",
   "metadata": {},
   "source": [
    "## Processed Dataset\n",
    "Below are the label frequency bar charts and boxplots for the processed dataset."
   ]
  },
  {
   "cell_type": "markdown",
   "metadata": {},
   "source": [
    "### 3. Label Frequency Bar Chart"
   ]
  },
  {
   "cell_type": "code",
   "execution_count": null,
   "metadata": {},
   "outputs": [],
   "source": [
    "args = VQAParameters(\"train\", recompute=True, use_proportional_split=True)\n",
    "args.processor = processor\n",
    "dataset_train = EasyVQAGeneration(args)\n",
    "\n",
    "args = VQAParameters(\"val\", recompute=True, use_proportional_split=True)\n",
    "args.processor = processor\n",
    "dataset_val = EasyVQAGeneration(args)\n",
    "\n",
    "args = VQAParameters(\"test\", recompute=True, use_proportional_split=True)\n",
    "args.processor = processor\n",
    "dataset_test = EasyVQAGeneration(args)\n",
    "\n",
    "calculate_label_frequency(\n",
    "    dataset_train,\n",
    "    dataset_val,\n",
    "    dataset_test,\n",
    "    path=f\"{DIR}/3.easyvqa_bar_processed\",\n",
    "    title=\"Easy-VQA Processed Dataset Bar Chart\",\n",
    ")"
   ]
  },
  {
   "cell_type": "markdown",
   "metadata": {},
   "source": [
    "## 4. Label Frequency Boxplot"
   ]
  },
  {
   "cell_type": "code",
   "execution_count": null,
   "metadata": {},
   "outputs": [],
   "source": [
    "dataset = concatenate_datasets(\n",
    "    [dataset_train.raw_dataset, dataset_val.raw_dataset, dataset_test.raw_dataset]\n",
    ")\n",
    "create_label_frequency_boxplot(\n",
    "    dataset,\n",
    "    path=f\"{DIR}/4.easyvqa_boxplot_processed\",\n",
    "    title=\"Easy-VQA Processed Dataset Boxplot\",\n",
    ")"
   ]
  },
  {
   "cell_type": "code",
   "execution_count": null,
   "metadata": {},
   "outputs": [],
   "source": []
  }
 ],
 "metadata": {
  "kernelspec": {
   "display_name": "dev",
   "language": "python",
   "name": "python3"
  },
  "language_info": {
   "codemirror_mode": {
    "name": "ipython",
    "version": 3
   },
   "file_extension": ".py",
   "mimetype": "text/x-python",
   "name": "python",
   "nbconvert_exporter": "python",
   "pygments_lexer": "ipython3",
   "version": "3.12.3"
  }
 },
 "nbformat": 4,
 "nbformat_minor": 2
}
